{
 "cells": [
  {
   "cell_type": "markdown",
   "id": "9a0e5d51",
   "metadata": {},
   "source": [
    "## Cleaning and preparing the data for model training"
   ]
  },
  {
   "cell_type": "code",
   "execution_count": null,
   "id": "727d8ffb",
   "metadata": {},
   "outputs": [],
   "source": [
    "import pandas as pd\n",
    "import numpy as np\n",
    "import matplotlib.pyplot as plt\n",
    "import seaborn as sns\n",
    "%matplotlib inline\n"
   ]
  },
  {
   "cell_type": "code",
   "execution_count": null,
   "id": "000cdfb0",
   "metadata": {},
   "outputs": [],
   "source": [
    "df_train = pd.read_csv('train.csv')"
   ]
  },
  {
   "cell_type": "code",
   "execution_count": null,
   "id": "62d18bd9",
   "metadata": {},
   "outputs": [],
   "source": [
    "df_train.head()"
   ]
  },
  {
   "cell_type": "code",
   "execution_count": null,
   "id": "cff96d40",
   "metadata": {},
   "outputs": [],
   "source": [
    "df_train.isnull().sum()"
   ]
  },
  {
   "cell_type": "code",
   "execution_count": null,
   "id": "8aeb468e",
   "metadata": {},
   "outputs": [],
   "source": [
    "df_test=pd.read_csv('test.csv')"
   ]
  },
  {
   "cell_type": "code",
   "execution_count": null,
   "id": "9042a3d4",
   "metadata": {},
   "outputs": [],
   "source": [
    "df_test.head()"
   ]
  },
  {
   "cell_type": "code",
   "execution_count": null,
   "id": "25303b7b",
   "metadata": {},
   "outputs": [],
   "source": [
    "df = pd.concat([df_train, df_test], ignore_index=True)\n",
    "df.head()"
   ]
  },
  {
   "cell_type": "code",
   "execution_count": null,
   "id": "e32484e5",
   "metadata": {},
   "outputs": [],
   "source": [
    "## Basic code :\n",
    "df.info()"
   ]
  },
  {
   "cell_type": "code",
   "execution_count": null,
   "id": "12f24615",
   "metadata": {},
   "outputs": [],
   "source": [
    "df.describe()"
   ]
  },
  {
   "cell_type": "code",
   "execution_count": null,
   "id": "70feb3ee",
   "metadata": {},
   "outputs": [],
   "source": [
    "df.drop(['User_ID'], axis=1, inplace=True)"
   ]
  },
  {
   "cell_type": "code",
   "execution_count": null,
   "id": "3443ddbc",
   "metadata": {},
   "outputs": [],
   "source": [
    "df.head()"
   ]
  },
  {
   "cell_type": "code",
   "execution_count": null,
   "id": "e521f768",
   "metadata": {},
   "outputs": [],
   "source": [
    "## Data Preprocessing\n",
    "\n",
    "## Handling categorical feature Gender\n",
    "df['Gender']=df['Gender'].map({'F':0, 'M':1})\n",
    "df.head()"
   ]
  },
  {
   "cell_type": "code",
   "execution_count": null,
   "id": "ff66e6f5",
   "metadata": {},
   "outputs": [],
   "source": [
    "## Handling categorical feature Age\n",
    "df['Age'].unique()"
   ]
  },
  {
   "cell_type": "code",
   "execution_count": null,
   "id": "742d2e94",
   "metadata": {},
   "outputs": [],
   "source": [
    "df['Age']=df['Age'].map({'0-17':1, '18-25':2,'26-35':3, '36-45':4,'46-50':5,'51-55':6,'55+':7})"
   ]
  },
  {
   "cell_type": "code",
   "execution_count": null,
   "id": "fb1cce19",
   "metadata": {},
   "outputs": [],
   "source": [
    "df.head()"
   ]
  },
  {
   "cell_type": "code",
   "execution_count": null,
   "id": "c7c4e305",
   "metadata": {},
   "outputs": [],
   "source": [
    "## Handling categorical feature City_Category\n",
    "df_city=pd.get_dummies(df['City_Category'],drop_first=True)\n",
    "\n",
    "df_city = df_city.astype(int)\n",
    "df_city.head()"
   ]
  },
  {
   "cell_type": "code",
   "execution_count": null,
   "metadata": {},
   "outputs": [],
   "source": [
    "df=pd.concat([df,df_city], axis=1)\n",
    "df.head()"
   ]
  },
  {
   "cell_type": "code",
   "execution_count": null,
   "id": "e2df8fd2",
   "metadata": {},
   "outputs": [],
   "source": [
    "df.drop('City_Category', axis=1, inplace=True)"
   ]
  },
  {
   "cell_type": "code",
   "execution_count": null,
   "id": "c950db98",
   "metadata": {},
   "outputs": [],
   "source": [
    "df.head()"
   ]
  },
  {
   "cell_type": "code",
   "execution_count": null,
   "id": "3c85cc16",
   "metadata": {},
   "outputs": [],
   "source": [
    "df.isnull().sum()"
   ]
  },
  {
   "cell_type": "markdown",
   "id": "4e895175",
   "metadata": {},
   "source": [
    "## Focus on replacing missing values :\n",
    "Product Category_2 et 3"
   ]
  },
  {
   "cell_type": "code",
   "execution_count": null,
   "id": "fc01d439",
   "metadata": {},
   "outputs": [],
   "source": [
    "df['Product_Category_2'].value_counts()"
   ]
  },
  {
   "cell_type": "code",
   "execution_count": null,
   "id": "17802c28",
   "metadata": {},
   "outputs": [],
   "source": [
    "##Replace the missing values with mode because its discrete values\n",
    "df['Product_Category_2']=df['Product_Category_2'].fillna(df['Product_Category_2'].mode()[0])\n"
   ]
  },
  {
   "cell_type": "code",
   "execution_count": null,
   "id": "7c98e9df",
   "metadata": {},
   "outputs": [],
   "source": [
    "df['Product_Category_2'].value_counts()"
   ]
  },
  {
   "cell_type": "code",
   "execution_count": null,
   "id": "a2b9f159",
   "metadata": {},
   "outputs": [],
   "source": [
    "df['Product_Category_2'].isnull().sum()"
   ]
  },
  {
   "cell_type": "code",
   "execution_count": null,
   "id": "f3ac900a",
   "metadata": {},
   "outputs": [],
   "source": [
    "df['Product_Category_3']=df['Product_Category_3'].fillna(df['Product_Category_3'].mode()[0])\n"
   ]
  },
  {
   "cell_type": "code",
   "execution_count": null,
   "id": "a614b270",
   "metadata": {},
   "outputs": [],
   "source": [
    "df['Product_Category_3'].value_counts()"
   ]
  },
  {
   "cell_type": "code",
   "execution_count": null,
   "id": "deeecd97",
   "metadata": {},
   "outputs": [],
   "source": [
    "df.shape"
   ]
  },
  {
   "cell_type": "code",
   "execution_count": null,
   "id": "cb608fb1",
   "metadata": {},
   "outputs": [],
   "source": [
    "df['Stay_In_Current_City_Years']=df['Stay_In_Current_City_Years'].str.replace('+','')"
   ]
  },
  {
   "cell_type": "code",
   "execution_count": null,
   "id": "f7c3113a",
   "metadata": {},
   "outputs": [],
   "source": [
    "df.head()"
   ]
  },
  {
   "cell_type": "code",
   "execution_count": null,
   "id": "ae479d43",
   "metadata": {},
   "outputs": [],
   "source": [
    "df.info()"
   ]
  },
  {
   "cell_type": "code",
   "execution_count": null,
   "id": "8700b85c",
   "metadata": {},
   "outputs": [],
   "source": [
    "## Convert object into integers\n",
    "df['Stay_In_Current_City_Years']=df['Stay_In_Current_City_Years'].astype(int)"
   ]
  },
  {
   "cell_type": "code",
   "execution_count": null,
   "id": "97f10a84",
   "metadata": {},
   "outputs": [],
   "source": [
    "df.info()"
   ]
  },
  {
   "cell_type": "code",
   "execution_count": null,
   "id": "0db60ec8",
   "metadata": {},
   "outputs": [],
   "source": []
  },
  {
   "cell_type": "code",
   "execution_count": null,
   "id": "d387ad13",
   "metadata": {},
   "outputs": [],
   "source": [
    "sns.barplot(x='Age', y='Purchase' , hue='Gender', data=df)"
   ]
  },
  {
   "cell_type": "code",
   "execution_count": null,
   "id": "6e067bf2",
   "metadata": {},
   "outputs": [],
   "source": [
    "sns.barplot(x='Occupation', y='Purchase' , hue='Gender', data=df)"
   ]
  },
  {
   "cell_type": "code",
   "execution_count": null,
   "id": "40001ad6",
   "metadata": {},
   "outputs": [],
   "source": [
    "sns.barplot(x='Product_Category_1', y='Purchase' , hue='Gender', data=df)"
   ]
  },
  {
   "cell_type": "code",
   "execution_count": null,
   "id": "5e7ffb7f",
   "metadata": {},
   "outputs": [],
   "source": [
    "sns.barplot(x='Product_Category_2', y='Purchase' , hue='Gender', data=df)"
   ]
  },
  {
   "cell_type": "code",
   "execution_count": null,
   "id": "9be52242",
   "metadata": {},
   "outputs": [],
   "source": [
    "df.head()"
   ]
  },
  {
   "cell_type": "code",
   "execution_count": null,
   "id": "a4110b69",
   "metadata": {},
   "outputs": [],
   "source": [
    "df['Product_Category_2'].describe()"
   ]
  },
  {
   "cell_type": "code",
   "execution_count": null,
   "id": "9a50e8d0",
   "metadata": {},
   "outputs": [],
   "source": [
    "sns.barplot(x='Product_Category_3', y='Purchase' , hue='Gender', data=df)"
   ]
  },
  {
   "cell_type": "markdown",
   "id": "51e5c9a5",
   "metadata": {},
   "source": [
    "## Split Train and Test data"
   ]
  },
  {
   "cell_type": "code",
   "execution_count": null,
   "id": "4b97b1bf",
   "metadata": {},
   "outputs": [],
   "source": [
    "df_test=df[df['Purchase'].isnull()]"
   ]
  },
  {
   "cell_type": "code",
   "execution_count": null,
   "id": "35446f6e",
   "metadata": {},
   "outputs": [],
   "source": [
    "df_train = df[~df['Purchase'].isnull()]\n"
   ]
  },
  {
   "cell_type": "code",
   "execution_count": 73,
   "id": "b8eae46a",
   "metadata": {},
   "outputs": [],
   "source": [
    "X = df_train.drop('Purchase', axis=1)"
   ]
  },
  {
   "cell_type": "code",
   "execution_count": null,
   "id": "d299fcd6",
   "metadata": {},
   "outputs": [],
   "source": [
    "y = df_train['Purchase']\n"
   ]
  },
  {
   "cell_type": "code",
   "execution_count": 76,
   "id": "d9ba699c",
   "metadata": {},
   "outputs": [],
   "source": [
    "from sklearn.model_selection import train_test_split\n",
    "\n",
    "# Assuming X is your feature matrix and y is your target variable\n",
    "X_train, X_test, y_train, y_test = train_test_split(X, y, test_size=0.33, random_state=42)\n"
   ]
  },
  {
   "cell_type": "code",
   "execution_count": 77,
   "id": "ad54b470",
   "metadata": {},
   "outputs": [],
   "source": [
    "X_train.drop('Product_ID', axis=1, inplace=True)\n",
    "X_test.drop('Product_ID', axis=1, inplace=True)\n"
   ]
  },
  {
   "cell_type": "code",
   "execution_count": 78,
   "id": "0034943d",
   "metadata": {},
   "outputs": [],
   "source": [
    "## Feature Scaling\n",
    "from sklearn.preprocessing import StandardScaler\n",
    "sc=StandardScaler()\n",
    "X_train= sc.fit_transform(X_train)\n",
    "X_test = sc.transform(X_test)"
   ]
  },
  {
   "cell_type": "code",
   "execution_count": null,
   "id": "feefe152",
   "metadata": {},
   "outputs": [],
   "source": [
    "## Train our model\n"
   ]
  }
 ],
 "metadata": {
  "kernelspec": {
   "display_name": "Python 3",
   "language": "python",
   "name": "python3"
  },
  "language_info": {
   "codemirror_mode": {
    "name": "ipython",
    "version": 3
   },
   "file_extension": ".py",
   "mimetype": "text/x-python",
   "name": "python",
   "nbconvert_exporter": "python",
   "pygments_lexer": "ipython3",
   "version": "3.10.2"
  }
 },
 "nbformat": 4,
 "nbformat_minor": 5
}
